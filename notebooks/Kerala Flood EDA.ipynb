{
 "cells": [
  {
   "cell_type": "markdown",
   "metadata": {},
   "source": [
    "## Get Data"
   ]
  },
  {
   "cell_type": "code",
   "execution_count": 1,
   "metadata": {},
   "outputs": [],
   "source": [
    "import pandas as pd\n",
    "import requests\n",
    "import seaborn as sns\n",
    "import re\n",
    "from whatthelang import WhatTheLang\n",
    "import jellyfish"
   ]
  },
  {
   "cell_type": "code",
   "execution_count": 2,
   "metadata": {},
   "outputs": [],
   "source": [
    "URL = \"https://keralarescue.in/data/\""
   ]
  },
  {
   "cell_type": "code",
   "execution_count": 4,
   "metadata": {},
   "outputs": [],
   "source": [
    "df = pd.read_json(requests.get(URL).text)"
   ]
  },
  {
   "cell_type": "code",
   "execution_count": 5,
   "metadata": {},
   "outputs": [
    {
     "data": {
      "text/html": [
       "<div>\n",
       "<table border=\"1\" class=\"dataframe\">\n",
       "  <thead>\n",
       "    <tr style=\"text-align: right;\">\n",
       "      <th></th>\n",
       "      <th>dateadded</th>\n",
       "      <th>detailcloth</th>\n",
       "      <th>detailfood</th>\n",
       "      <th>detailkit_util</th>\n",
       "      <th>detailmed</th>\n",
       "      <th>detailrescue</th>\n",
       "      <th>detailtoilet</th>\n",
       "      <th>detailwater</th>\n",
       "      <th>district</th>\n",
       "      <th>id</th>\n",
       "      <th>...</th>\n",
       "      <th>needkit_util</th>\n",
       "      <th>needmed</th>\n",
       "      <th>needothers</th>\n",
       "      <th>needrescue</th>\n",
       "      <th>needtoilet</th>\n",
       "      <th>needwater</th>\n",
       "      <th>requestee</th>\n",
       "      <th>requestee_phone</th>\n",
       "      <th>status</th>\n",
       "      <th>supply_details</th>\n",
       "    </tr>\n",
       "  </thead>\n",
       "  <tbody>\n",
       "    <tr>\n",
       "      <th>0</th>\n",
       "      <td>2018-08-16T09:17:58.895Z</td>\n",
       "      <td></td>\n",
       "      <td></td>\n",
       "      <td></td>\n",
       "      <td></td>\n",
       "      <td></td>\n",
       "      <td></td>\n",
       "      <td></td>\n",
       "      <td>ekm</td>\n",
       "      <td>6765</td>\n",
       "      <td>...</td>\n",
       "      <td>False</td>\n",
       "      <td>False</td>\n",
       "      <td>Rescue from water filled house</td>\n",
       "      <td>False</td>\n",
       "      <td>False</td>\n",
       "      <td>False</td>\n",
       "      <td>Sreeram</td>\n",
       "      <td>094470581</td>\n",
       "      <td>new</td>\n",
       "      <td></td>\n",
       "    </tr>\n",
       "    <tr>\n",
       "      <th>1</th>\n",
       "      <td>2018-08-16T09:21:22.609Z</td>\n",
       "      <td></td>\n",
       "      <td></td>\n",
       "      <td></td>\n",
       "      <td></td>\n",
       "      <td></td>\n",
       "      <td></td>\n",
       "      <td></td>\n",
       "      <td>idk</td>\n",
       "      <td>6794</td>\n",
       "      <td>...</td>\n",
       "      <td>False</td>\n",
       "      <td>False</td>\n",
       "      <td></td>\n",
       "      <td>False</td>\n",
       "      <td>False</td>\n",
       "      <td>False</td>\n",
       "      <td>Test</td>\n",
       "      <td>Test</td>\n",
       "      <td>new</td>\n",
       "      <td></td>\n",
       "    </tr>\n",
       "  </tbody>\n",
       "</table>\n",
       "<p>2 rows × 26 columns</p>\n",
       "</div>"
      ],
      "text/plain": [
       "                  dateadded detailcloth detailfood detailkit_util detailmed  \\\n",
       "0  2018-08-16T09:17:58.895Z                                                   \n",
       "1  2018-08-16T09:21:22.609Z                                                   \n",
       "\n",
       "  detailrescue detailtoilet detailwater district    id      ...        \\\n",
       "0                                            ekm  6765      ...         \n",
       "1                                            idk  6794      ...         \n",
       "\n",
       "  needkit_util needmed                      needothers needrescue needtoilet  \\\n",
       "0        False   False  Rescue from water filled house      False      False   \n",
       "1        False   False                                      False      False   \n",
       "\n",
       "  needwater requestee requestee_phone status supply_details  \n",
       "0     False   Sreeram       094470581    new                 \n",
       "1     False      Test            Test    new                 \n",
       "\n",
       "[2 rows x 26 columns]"
      ]
     },
     "execution_count": 5,
     "metadata": {},
     "output_type": "execute_result"
    }
   ],
   "source": [
    "df.head(2)"
   ]
  },
  {
   "cell_type": "code",
   "execution_count": 6,
   "metadata": {},
   "outputs": [
    {
     "data": {
      "text/plain": [
       "(7684, 26)"
      ]
     },
     "execution_count": 6,
     "metadata": {},
     "output_type": "execute_result"
    }
   ],
   "source": [
    "df.shape"
   ]
  },
  {
   "cell_type": "code",
   "execution_count": 7,
   "metadata": {},
   "outputs": [
    {
     "data": {
      "text/plain": [
       "Index([u'dateadded', u'detailcloth', u'detailfood', u'detailkit_util',\n",
       "       u'detailmed', u'detailrescue', u'detailtoilet', u'detailwater',\n",
       "       u'district', u'id', u'is_request_for_others', u'latlng',\n",
       "       u'latlng_accuracy', u'location', u'needcloth', u'needfood',\n",
       "       u'needkit_util', u'needmed', u'needothers', u'needrescue',\n",
       "       u'needtoilet', u'needwater', u'requestee', u'requestee_phone',\n",
       "       u'status', u'supply_details'],\n",
       "      dtype='object')"
      ]
     },
     "execution_count": 7,
     "metadata": {},
     "output_type": "execute_result"
    }
   ],
   "source": [
    "df.columns"
   ]
  },
  {
   "cell_type": "markdown",
   "metadata": {},
   "source": [
    "- We have the above columns available"
   ]
  },
  {
   "cell_type": "markdown",
   "metadata": {},
   "source": [
    "## Distribution of requests  across districts"
   ]
  },
  {
   "cell_type": "code",
   "execution_count": 8,
   "metadata": {},
   "outputs": [
    {
     "data": {
      "text/plain": [
       "ekm    2976\n",
       "ptm    1621\n",
       "alp    1612\n",
       "tcr    1263\n",
       "idk      54\n",
       "ktm      34\n",
       "tvm      29\n",
       "mpm      24\n",
       "kol      23\n",
       "koz      16\n",
       "pkd      16\n",
       "knr       6\n",
       "wnd       5\n",
       "ksr       5\n",
       "Name: district, dtype: int64"
      ]
     },
     "execution_count": 8,
     "metadata": {},
     "output_type": "execute_result"
    }
   ],
   "source": [
    "val_counts = df.district.value_counts()\n",
    "val_counts"
   ]
  },
  {
   "cell_type": "code",
   "execution_count": 9,
   "metadata": {},
   "outputs": [
    {
     "data": {
      "text/plain": [
       "<matplotlib.axes._subplots.AxesSubplot at 0x7fe7e8720a10>"
      ]
     },
     "execution_count": 9,
     "metadata": {},
     "output_type": "execute_result"
    },
    {
     "data": {
      "image/png": "[encoded data removed]",
      "text/plain": [
       "<matplotlib.figure.Figure at 0x7fe7e8716c10>"
      ]
     },
     "metadata": {},
     "output_type": "display_data"
    }
   ],
   "source": [
    "sns.barplot(x=val_counts.index, y=val_counts.values)"
   ]
  },
  {
   "cell_type": "markdown",
   "metadata": {},
   "source": [
    "- As evident from the distribution ; **Ernakulam** (ekm), **Pathanamathitta** (ptm) , **Alappuzha** (alp) and **Thrissur** (tcr) \n",
    "  looks like the most affected districts."
   ]
  },
  {
   "cell_type": "code",
   "execution_count": 10,
   "metadata": {},
   "outputs": [
    {
     "data": {
      "text/plain": [
       "(7684, 26)"
      ]
     },
     "execution_count": 10,
     "metadata": {},
     "output_type": "execute_result"
    }
   ],
   "source": [
    "df.shape"
   ]
  },
  {
   "cell_type": "markdown",
   "metadata": {},
   "source": [
    "- We have at this point of time 7684 requests being made."
   ]
  },
  {
   "cell_type": "markdown",
   "metadata": {},
   "source": [
    "# Utility functions"
   ]
  },
  {
   "cell_type": "code",
   "execution_count": 11,
   "metadata": {},
   "outputs": [],
   "source": [
    "PHONE_NUM_REGEX = \"^(?:(?:\\+|0{0,2})91(\\s*[\\-]\\s*)?|[0]?)?[789]\\d{9}$\"\n",
    "pattern = re.compile(PHONE_NUM_REGEX) \n",
    "lat_range = (8,10)\n",
    "lng_range = (74,78)"
   ]
  },
  {
   "cell_type": "code",
   "execution_count": 12,
   "metadata": {},
   "outputs": [],
   "source": [
    "def is_valid_num(ph_no): \n",
    "    return bool(re.match(pattern,ph_no)) "
   ]
  },
  {
   "cell_type": "code",
   "execution_count": 13,
   "metadata": {},
   "outputs": [],
   "source": [
    "def is_valid_kerala_lat_long(lat,lng):\n",
    "    return 8 <= lat <= 9 and 74<= lng <=78\n"
   ]
  },
  {
   "cell_type": "code",
   "execution_count": 14,
   "metadata": {},
   "outputs": [],
   "source": [
    "wtl = WhatTheLang()\n",
    "def identify_lang(text): \n",
    "    try :\n",
    "        return wtl.predict_lang(text)\n",
    "    except ValueError:\n",
    "        return \"NA\"\n",
    "        "
   ]
  },
  {
   "cell_type": "markdown",
   "metadata": {},
   "source": [
    "# Cleanup"
   ]
  },
  {
   "cell_type": "code",
   "execution_count": 15,
   "metadata": {},
   "outputs": [
    {
     "name": "stdout",
     "output_type": "stream",
     "text": [
      "Total Number of request is 7684\n",
      "Total Unique requests is 5833\n"
     ]
    }
   ],
   "source": [
    "print \"Total Number of request is {}\".format(df.shape[0])\n",
    "print \"Total Unique requests is {}\".format(df.requestee_phone.unique().shape[0])"
   ]
  },
  {
   "cell_type": "markdown",
   "metadata": {},
   "source": [
    "- We have duplicates and should be removed. More discussion happened [here](https://github.com/IEEEKeralaSection/rescuekerala/issues/419) about this. "
   ]
  },
  {
   "cell_type": "code",
   "execution_count": 16,
   "metadata": {},
   "outputs": [],
   "source": [
    "cleaned_df = df.copy()"
   ]
  },
  {
   "cell_type": "code",
   "execution_count": 17,
   "metadata": {},
   "outputs": [],
   "source": [
    "cleaned_df = cleaned_df.drop_duplicates(subset='requestee_phone')"
   ]
  },
  {
   "cell_type": "code",
   "execution_count": 18,
   "metadata": {},
   "outputs": [
    {
     "name": "stdout",
     "output_type": "stream",
     "text": [
      "Total requests after removing the duplicate phone numbers : 5833\n"
     ]
    }
   ],
   "source": [
    "print \"Total requests after removing the duplicate phone numbers : {}\".format(cleaned_df.shape[0])"
   ]
  },
  {
   "cell_type": "code",
   "execution_count": 19,
   "metadata": {},
   "outputs": [],
   "source": [
    "cleaned_df[\"is_valid_phone\"]= cleaned_df.apply(lambda x : is_valid_num(x[\"requestee_phone\"]),axis =1)"
   ]
  },
  {
   "cell_type": "code",
   "execution_count": 20,
   "metadata": {},
   "outputs": [
    {
     "data": {
      "text/plain": [
       "True     5466\n",
       "False     367\n",
       "Name: is_valid_phone, dtype: int64"
      ]
     },
     "execution_count": 20,
     "metadata": {},
     "output_type": "execute_result"
    }
   ],
   "source": [
    "cleaned_df.is_valid_phone.value_counts()"
   ]
  },
  {
   "cell_type": "code",
   "execution_count": 21,
   "metadata": {},
   "outputs": [],
   "source": [
    "cleaned_df = cleaned_df[cleaned_df.is_valid_phone]"
   ]
  },
  {
   "cell_type": "code",
   "execution_count": 22,
   "metadata": {},
   "outputs": [
    {
     "name": "stdout",
     "output_type": "stream",
     "text": [
      "Total requests after removing the invalid phone numbers : 5466\n"
     ]
    }
   ],
   "source": [
    "print \"Total requests after removing the invalid phone numbers : {}\".format(cleaned_df.shape[0])"
   ]
  },
  {
   "cell_type": "code",
   "execution_count": 23,
   "metadata": {},
   "outputs": [],
   "source": [
    "cleaned_df[\"language\"] = cleaned_df.apply(lambda x : identify_lang(x[\"location\"]),axis =1)"
   ]
  },
  {
   "cell_type": "code",
   "execution_count": 24,
   "metadata": {},
   "outputs": [],
   "source": [
    "cleaned_df_ml = cleaned_df[cleaned_df.language == \"ml\"]"
   ]
  },
  {
   "cell_type": "code",
   "execution_count": 25,
   "metadata": {},
   "outputs": [
    {
     "name": "stdout",
     "output_type": "stream",
     "text": [
      "Number of requests made in Malayalam is : 194. These need to be handled differently\n"
     ]
    }
   ],
   "source": [
    "print \"Number of requests made in Malayalam is : {}. \\\n",
    "These need to be handled differently\".format(cleaned_df_ml.shape[0])"
   ]
  },
  {
   "cell_type": "code",
   "execution_count": 26,
   "metadata": {},
   "outputs": [],
   "source": [
    "cleaned_df = cleaned_df[cleaned_df.language != \"ml\"]"
   ]
  },
  {
   "cell_type": "code",
   "execution_count": 27,
   "metadata": {
    "scrolled": false
   },
   "outputs": [
    {
     "data": {
      "text/plain": [
       "Aluva              80\n",
       "Chengannur         78\n",
       "Chalakudy          61\n",
       "Thiruvalla         52\n",
       "Kalady             42\n",
       "Poovathussery      36\n",
       "Pandanad           33\n",
       "chengannur         19\n",
       "Ayroor             18\n",
       "Thiruvanvandoor    16\n",
       "Name: location, dtype: int64"
      ]
     },
     "execution_count": 27,
     "metadata": {},
     "output_type": "execute_result"
    }
   ],
   "source": [
    "cleaned_df.location.value_counts()[:10]"
   ]
  },
  {
   "cell_type": "markdown",
   "metadata": {},
   "source": [
    "- We can see that there are duplicates and typos in the location names. We need to handle basic typos."
   ]
  },
  {
   "cell_type": "code",
   "execution_count": 28,
   "metadata": {},
   "outputs": [],
   "source": [
    "cleaned_df[\"location\"] = cleaned_df.location.apply(lambda x : x.lower())"
   ]
  },
  {
   "cell_type": "code",
   "execution_count": 29,
   "metadata": {},
   "outputs": [
    {
     "data": {
      "text/plain": [
       "chengannur                                                109\n",
       "aluva                                                      98\n",
       "chalakudy                                                  71\n",
       "thiruvalla                                                 63\n",
       "kalady                                                     51\n",
       "poovathussery                                              41\n",
       "pandanad                                                   40\n",
       "thiruvanvandoor                                            23\n",
       "north paravur                                              21\n",
       "chalakkudy                                                 19\n",
       "ayroor                                                     19\n",
       "chendamangalam                                             17\n",
       "chenganoor                                                 16\n",
       "niranam                                                    16\n",
       "kongorpilly                                                16\n",
       "kadukutty                                                  15\n",
       "arattupuzha                                                15\n",
       "east kadungalloor                                          14\n",
       "aranmula                                                   14\n",
       "parakkadavu                                                14\n",
       "chengannoor                                                14\n",
       "edayaranmula                                               13\n",
       "budhanoor                                                  12\n",
       "chalakudi                                                  12\n",
       "annamanada                                                 12\n",
       "thottakattukara                                            11\n",
       "muvattupuzha                                               11\n",
       "pandanadu                                                  10\n",
       "panayikulam                                                10\n",
       "mangalam                                                   10\n",
       "                                                         ... \n",
       "desom                                                       2\n",
       "nellickal                                                   2\n",
       "mepral, thiruvalla                                          2\n",
       "edanadu chengannur                                          2\n",
       "peringara  near thiruvalla                                  2\n",
       "maalakkara                                                  2\n",
       "kuthiyathode                                                2\n",
       "pulinkunnu                                                  2\n",
       "pravinkoodu                                                 2\n",
       "chengal                                                     2\n",
       "kallissery, umayattukara, edakadave, vadakanathu house      2\n",
       "pacha,edathua                                               2\n",
       "podiyadi, thiruvalla                                        2\n",
       "cmi public school                                           2\n",
       "puthukary                                                   2\n",
       "kozhenchery                                                 2\n",
       "chalakudy golden nagar palliseri road                       2\n",
       "nedumudi                                                    2\n",
       "pullu                                                       2\n",
       "veliyanadu                                                  2\n",
       "vayaloor shiva temple, vayaloor, nellayi, 680305            2\n",
       "east desom                                                  2\n",
       "thiruvanvadoor                                              2\n",
       "moozhikulam                                                 2\n",
       "kavalam                                                     2\n",
       "east kadungallur, aluva                                     2\n",
       "vallamkulam, thiruvalla                                     2\n",
       "thiruvalla, thiruvanvandoor                                 2\n",
       "koottukadu                                                  2\n",
       "kalladi                                                     2\n",
       "Name: location, dtype: int64"
      ]
     },
     "execution_count": 29,
     "metadata": {},
     "output_type": "execute_result"
    }
   ],
   "source": [
    "cleaned_df.location.value_counts()[:200]"
   ]
  },
  {
   "cell_type": "markdown",
   "metadata": {},
   "source": [
    "- We can see that Chengannur is clearly one of the most affected. But can also see places mentioned as `chegannur` etc ; We can try to do use some distance metric to find the ones which are obvious typo"
   ]
  },
  {
   "cell_type": "code",
   "execution_count": 30,
   "metadata": {},
   "outputs": [
    {
     "data": {
      "text/plain": [
       "0.9296296296296296"
      ]
     },
     "execution_count": 30,
     "metadata": {},
     "output_type": "execute_result"
    }
   ],
   "source": [
    "jellyfish.jaro_distance(u\"chengannur\",u\"chegannur\")"
   ]
  },
  {
   "cell_type": "markdown",
   "metadata": {},
   "source": [
    "- Jaro distance seems to be a good metric here. We can try to find the closest matching string to the \n",
    "below locations (top 15)\n",
    "       u'chengannur', u'aluva', u'chalakudy', u'thiruvalla', u'kalady',\n",
    "       u'poovathussery', u'pandanad', u'thiruvanvandoor', u'north paravur',\n",
    "       u'chalakkudy', u'ayroor', u'chendamangalam', u'niranam', u'kadukutty',\n",
    "       u'arattupuzha'"
   ]
  },
  {
   "cell_type": "code",
   "execution_count": 31,
   "metadata": {},
   "outputs": [],
   "source": [
    "all_location = cleaned_df.location.unique().tolist()"
   ]
  },
  {
   "cell_type": "code",
   "execution_count": 32,
   "metadata": {},
   "outputs": [
    {
     "data": {
      "text/plain": [
       "[u'chengannur',\n",
       " u'aluva',\n",
       " u'chalakudy',\n",
       " u'thiruvalla',\n",
       " u'kalady',\n",
       " u'poovathussery',\n",
       " u'pandanad',\n",
       " u'thiruvanvandoor',\n",
       " u'north paravur',\n",
       " u'chalakkudy',\n",
       " u'ayroor',\n",
       " u'chendamangalam',\n",
       " u'chenganoor',\n",
       " u'niranam',\n",
       " u'kongorpilly']"
      ]
     },
     "execution_count": 32,
     "metadata": {},
     "output_type": "execute_result"
    }
   ],
   "source": [
    "top_15_loc = cleaned_df.location.value_counts()[:15].index.tolist()\n",
    "top_15_loc"
   ]
  },
  {
   "cell_type": "code",
   "execution_count": 33,
   "metadata": {},
   "outputs": [],
   "source": [
    "def build_mapping(all_location,top_15_loc):\n",
    "    loc_mapping = {}\n",
    "    for loc in all_location:\n",
    "        for tloc in top_15_loc:\n",
    "            max_dist = 0\n",
    "            if loc == tloc:\n",
    "                continue\n",
    "            else:\n",
    "                sim = jellyfish.jaro_distance(loc,tloc)\n",
    "                if sim > 0.85 and sim > loc_mapping.get(\"loc\",0):\n",
    "                    loc_mapping[loc] = tloc\n",
    "    return loc_mapping"
   ]
  },
  {
   "cell_type": "code",
   "execution_count": 34,
   "metadata": {
    "scrolled": false
   },
   "outputs": [
    {
     "data": {
      "text/plain": [
       "{u'aliva': u'aluva',\n",
       " u'aluva,': u'aluva',\n",
       " u'ayiroor': u'ayroor',\n",
       " u'chalakka': u'chalakkudy',\n",
       " u'chalakkkudy': u'chalakkudy',\n",
       " u'chalakkudi': u'chalakkudy',\n",
       " u'chalakkudy': u'chalakudy',\n",
       " u'chalakkudy south': u'chalakkudy',\n",
       " u'chalakuddy': u'chalakkudy',\n",
       " u'chalakudi': u'chalakkudy',\n",
       " u'chalakudy': u'chalakkudy',\n",
       " u'chalakudy meloor': u'chalakudy',\n",
       " u'chalakudy north': u'chalakudy',\n",
       " u'chalakudy,meloor': u'chalakudy',\n",
       " u'chegannur': u'chenganoor',\n",
       " u'cheganoor': u'chenganoor',\n",
       " u'chenagnnur': u'chengannur',\n",
       " u'chendamangalam panchayath': u'chendamangalam',\n",
       " u'chendamangalam paravur': u'chendamangalam',\n",
       " u'chendamangalam, paravoor': u'chendamangalam',\n",
       " u'chendamangalam, paravur': u'chendamangalam',\n",
       " u'chengamanad': u'chendamangalam',\n",
       " u'chengannoor': u'chenganoor',\n",
       " u'chengannor': u'chenganoor',\n",
       " u'chengannur': u'chenganoor',\n",
       " u'chengannur edakavu': u'chengannur',\n",
       " u'chengannur, othara': u'chengannur',\n",
       " u'chengannur- ala': u'chengannur',\n",
       " u'chengannuur': u'chengannur',\n",
       " u'chenganoor': u'chengannur',\n",
       " u'chenganoor edanad': u'chenganoor',\n",
       " u'chenganoor taluk': u'chenganoor',\n",
       " u'chenganoor,alla': u'chenganoor',\n",
       " u'chenganur': u'chenganoor',\n",
       " u'chenganuur': u'chenganoor',\n",
       " u'chengenur': u'chengannur',\n",
       " u'chenghannoor': u'chenganoor',\n",
       " u'chenghannur': u'chengannur',\n",
       " u'chennamangalam': u'chendamangalam',\n",
       " u'dims chalakkudy': u'chalakkudy',\n",
       " u'kaladi': u'kalady',\n",
       " u'kallady': u'kalady',\n",
       " u'kongorpally': u'kongorpilly',\n",
       " u'kongorppilly': u'kongorpilly',\n",
       " u'maroor': u'ayroor',\n",
       " u'mekalady': u'kalady',\n",
       " u'niranam west': u'niranam',\n",
       " u'nort paravoor': u'north paravur',\n",
       " u'north  paravoor': u'north paravur',\n",
       " u'north paravoor': u'north paravur',\n",
       " u'north paravoot': u'north paravur',\n",
       " u'north parur': u'north paravur',\n",
       " u'padanada': u'pandanad',\n",
       " u'panadanad': u'pandanad',\n",
       " u'pandanaad': u'pandanad',\n",
       " u'pandanad west': u'pandanad',\n",
       " u'pandanade': u'pandanad',\n",
       " u'pandanadu': u'pandanad',\n",
       " u'pandand': u'pandanad',\n",
       " u'poovathur': u'poovathussery',\n",
       " u'poovathuserry': u'poovathussery',\n",
       " u'poovathusery': u'poovathussery',\n",
       " u'poovathusherry': u'poovathussery',\n",
       " u'poovathusseri, mala': u'poovathussery',\n",
       " u'poovathussery church': u'poovathussery',\n",
       " u'poovathussery palupuzha': u'poovathussery',\n",
       " u'poovathussery, aluva': u'poovathussery',\n",
       " u'poovathussry': u'poovathussery',\n",
       " u'puvathussery': u'poovathussery',\n",
       " u'thiruvala': u'thiruvalla',\n",
       " u'thiruvalla kuttoor': u'thiruvalla',\n",
       " u'thiruvalla,kuttoor': u'thiruvalla',\n",
       " u'thiruvallam': u'thiruvalla',\n",
       " u'thiruvamandoor': u'thiruvanvandoor',\n",
       " u'thiruvandoor': u'thiruvanvandoor',\n",
       " u'thiruvanmandoor': u'thiruvanvandoor',\n",
       " u'thiruvanmundoor': u'thiruvanvandoor',\n",
       " u'thiruvanvadoor': u'thiruvanvandoor',\n",
       " u'thiruvanvanddur': u'thiruvanvandoor',\n",
       " u'thiruvanvandoor , madavana': u'thiruvanvandoor',\n",
       " u'thiruvanvandoor ,chengannur': u'thiruvanvandoor',\n",
       " u'thiruvanvandoor chengannur,': u'thiruvanvandoor',\n",
       " u'thiruvanvandoor temple': u'thiruvanvandoor',\n",
       " u'thiruvanvandor': u'thiruvanvandoor',\n",
       " u'thiruvanvandur': u'thiruvanvandoor',\n",
       " u'thiruvanvanfoor': u'thiruvanvandoor',\n",
       " u'thiruvanwandoor': u'thiruvanvandoor',\n",
       " u'thirvalla': u'thiruvalla',\n",
       " u'thrivanvandoor': u'thiruvanvandoor',\n",
       " u'tiruvalla': u'thiruvalla',\n",
       " u'tiruvallla': u'thiruvalla',\n",
       " u'west chalakkudy': u'chalakkudy',\n",
       " u'west chalakudy': u'chalakudy'}"
      ]
     },
     "execution_count": 34,
     "metadata": {},
     "output_type": "execute_result"
    }
   ],
   "source": [
    "loc_mapping = build_mapping(all_location,top_15_loc)\n",
    "loc_mapping"
   ]
  },
  {
   "cell_type": "markdown",
   "metadata": {},
   "source": [
    "- Mapping Looks good. We will map these locations also to the top 15 locations"
   ]
  },
  {
   "cell_type": "code",
   "execution_count": 36,
   "metadata": {},
   "outputs": [],
   "source": [
    "def map_location(location): return loc_mapping.get(location,location)"
   ]
  },
  {
   "cell_type": "code",
   "execution_count": 40,
   "metadata": {},
   "outputs": [],
   "source": [
    "cleaned_df[\"new_location\"] = cleaned_df.apply(lambda x : map_location(x[\"location\"]),axis =1)"
   ]
  },
  {
   "cell_type": "code",
   "execution_count": 41,
   "metadata": {
    "scrolled": false
   },
   "outputs": [
    {
     "data": {
      "text/plain": [
       "chenganoor           141\n",
       "aluva                100\n",
       "chalakkudy            96\n",
       "thiruvalla            72\n",
       "kalady                60\n",
       "pandanad              57\n",
       "poovathussery         53\n",
       "thiruvanvandoor       43\n",
       "north paravur         34\n",
       "chalakudy             29\n",
       "chendamangalam        26\n",
       "ayroor                24\n",
       "chengannur            23\n",
       "kongorpilly           21\n",
       "niranam               17\n",
       "kadukutty             15\n",
       "arattupuzha           15\n",
       "parakkadavu           14\n",
       "east kadungalloor     14\n",
       "aranmula              14\n",
       "Name: new_location, dtype: int64"
      ]
     },
     "execution_count": 41,
     "metadata": {},
     "output_type": "execute_result"
    }
   ],
   "source": [
    "cleaned_df.new_location.value_counts()[:20]"
   ]
  },
  {
   "cell_type": "markdown",
   "metadata": {},
   "source": [
    "- This is the Top 20 affected locations along with number of requests"
   ]
  },
  {
   "cell_type": "code",
   "execution_count": 57,
   "metadata": {},
   "outputs": [],
   "source": [
    "cleaned_df[(cleaned_df.new_location.isin([\"chenganoor\",\"chengannur\",\"pandanad\"]))][[\"requestee\",\"detailrescue\",\"location\",\"requestee_phone\"]].to_csv(\"chengannur_rescuee_needs.csv\",index=False,encoding=\"utf8\")"
   ]
  },
  {
   "cell_type": "code",
   "execution_count": null,
   "metadata": {},
   "outputs": [],
   "source": []
  }
 ],
 "metadata": {
  "kernelspec": {
   "display_name": "Python [conda env:citius]",
   "language": "python",
   "name": "conda-env-citius-py"
  },
  "language_info": {
   "codemirror_mode": {
    "name": "ipython",
    "version": 2
   },
   "file_extension": ".py",
   "mimetype": "text/x-python",
   "name": "python",
   "nbconvert_exporter": "python",
   "pygments_lexer": "ipython2",
   "version": "2.7.14"
  }
 },
 "nbformat": 4,
 "nbformat_minor": 2
}
