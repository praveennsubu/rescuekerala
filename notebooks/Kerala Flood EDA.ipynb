{
 "cells": [
  {
   "cell_type": "markdown",
   "metadata": {},
   "source": [
    "## Get Data"
   ]
  },
  {
   "cell_type": "code",
   "execution_count": 126,
   "metadata": {},
   "outputs": [],
   "source": [
    "import pandas as pd\n",
    "import requests\n",
    "import seaborn as sns\n",
    "import re\n",
    "from whatthelang import WhatTheLang\n",
    "import jellyfish"
   ]
  },
  {
   "cell_type": "code",
   "execution_count": 21,
   "metadata": {},
   "outputs": [],
   "source": [
    "URL = \"https://keralarescue.in/data/\""
   ]
  },
  {
   "cell_type": "code",
   "execution_count": 22,
   "metadata": {},
   "outputs": [],
   "source": [
    "df = pd.read_json(requests.get(url).text)"
   ]
  },
  {
   "cell_type": "code",
   "execution_count": 23,
   "metadata": {},
   "outputs": [
    {
     "data": {
      "text/html": [
       "<div>\n",
       "<table border=\"1\" class=\"dataframe\">\n",
       "  <thead>\n",
       "    <tr style=\"text-align: right;\">\n",
       "      <th></th>\n",
       "      <th>dateadded</th>\n",
       "      <th>detailcloth</th>\n",
       "      <th>detailfood</th>\n",
       "      <th>detailkit_util</th>\n",
       "      <th>detailmed</th>\n",
       "      <th>detailrescue</th>\n",
       "      <th>detailtoilet</th>\n",
       "      <th>detailwater</th>\n",
       "      <th>district</th>\n",
       "      <th>id</th>\n",
       "      <th>...</th>\n",
       "      <th>needkit_util</th>\n",
       "      <th>needmed</th>\n",
       "      <th>needothers</th>\n",
       "      <th>needrescue</th>\n",
       "      <th>needtoilet</th>\n",
       "      <th>needwater</th>\n",
       "      <th>requestee</th>\n",
       "      <th>requestee_phone</th>\n",
       "      <th>status</th>\n",
       "      <th>supply_details</th>\n",
       "    </tr>\n",
       "  </thead>\n",
       "  <tbody>\n",
       "    <tr>\n",
       "      <th>0</th>\n",
       "      <td>2018-08-16T09:17:58.895Z</td>\n",
       "      <td></td>\n",
       "      <td></td>\n",
       "      <td></td>\n",
       "      <td></td>\n",
       "      <td></td>\n",
       "      <td></td>\n",
       "      <td></td>\n",
       "      <td>ekm</td>\n",
       "      <td>6765</td>\n",
       "      <td>...</td>\n",
       "      <td>False</td>\n",
       "      <td>False</td>\n",
       "      <td>Rescue from water filled house</td>\n",
       "      <td>False</td>\n",
       "      <td>False</td>\n",
       "      <td>False</td>\n",
       "      <td>Sreeram</td>\n",
       "      <td>094470581</td>\n",
       "      <td>new</td>\n",
       "      <td></td>\n",
       "    </tr>\n",
       "    <tr>\n",
       "      <th>1</th>\n",
       "      <td>2018-08-16T09:21:22.609Z</td>\n",
       "      <td></td>\n",
       "      <td></td>\n",
       "      <td></td>\n",
       "      <td></td>\n",
       "      <td></td>\n",
       "      <td></td>\n",
       "      <td></td>\n",
       "      <td>idk</td>\n",
       "      <td>6794</td>\n",
       "      <td>...</td>\n",
       "      <td>False</td>\n",
       "      <td>False</td>\n",
       "      <td></td>\n",
       "      <td>False</td>\n",
       "      <td>False</td>\n",
       "      <td>False</td>\n",
       "      <td>Test</td>\n",
       "      <td>Test</td>\n",
       "      <td>new</td>\n",
       "      <td></td>\n",
       "    </tr>\n",
       "  </tbody>\n",
       "</table>\n",
       "<p>2 rows × 26 columns</p>\n",
       "</div>"
      ],
      "text/plain": [
       "                  dateadded detailcloth detailfood detailkit_util detailmed  \\\n",
       "0  2018-08-16T09:17:58.895Z                                                   \n",
       "1  2018-08-16T09:21:22.609Z                                                   \n",
       "\n",
       "  detailrescue detailtoilet detailwater district    id      ...        \\\n",
       "0                                            ekm  6765      ...         \n",
       "1                                            idk  6794      ...         \n",
       "\n",
       "  needkit_util needmed                      needothers needrescue needtoilet  \\\n",
       "0        False   False  Rescue from water filled house      False      False   \n",
       "1        False   False                                      False      False   \n",
       "\n",
       "  needwater requestee requestee_phone status supply_details  \n",
       "0     False   Sreeram       094470581    new                 \n",
       "1     False      Test            Test    new                 \n",
       "\n",
       "[2 rows x 26 columns]"
      ]
     },
     "execution_count": 23,
     "metadata": {},
     "output_type": "execute_result"
    }
   ],
   "source": [
    "df.head(2)"
   ]
  },
  {
   "cell_type": "code",
   "execution_count": 26,
   "metadata": {},
   "outputs": [
    {
     "data": {
      "text/plain": [
       "Index([u'dateadded', u'detailcloth', u'detailfood', u'detailkit_util',\n",
       "       u'detailmed', u'detailrescue', u'detailtoilet', u'detailwater',\n",
       "       u'district', u'id', u'is_request_for_others', u'latlng',\n",
       "       u'latlng_accuracy', u'location', u'needcloth', u'needfood',\n",
       "       u'needkit_util', u'needmed', u'needothers', u'needrescue',\n",
       "       u'needtoilet', u'needwater', u'requestee', u'requestee_phone',\n",
       "       u'status', u'supply_details'],\n",
       "      dtype='object')"
      ]
     },
     "execution_count": 26,
     "metadata": {},
     "output_type": "execute_result"
    }
   ],
   "source": [
    "df.columns"
   ]
  },
  {
   "cell_type": "markdown",
   "metadata": {},
   "source": [
    "- We have the above columns available"
   ]
  },
  {
   "cell_type": "markdown",
   "metadata": {},
   "source": [
    "## Distribution of requests  across districts"
   ]
  },
  {
   "cell_type": "code",
   "execution_count": 71,
   "metadata": {
    "scrolled": false
   },
   "outputs": [
    {
     "data": {
      "text/plain": [
       "Aluva                                                                                                                                                                         108\n",
       "Chengannur                                                                                                                                                                     98\n",
       "Chalakudy                                                                                                                                                                      89\n",
       "Thiruvalla                                                                                                                                                                     64\n",
       "Kalady                                                                                                                                                                         54\n",
       "Poovathussery                                                                                                                                                                  47\n",
       "Pandanad                                                                                                                                                                       37\n",
       "chengannur                                                                                                                                                                     30\n",
       "Arattupuzha                                                                                                                                                                    22\n",
       "Ayroor                                                                                                                                                                         21\n",
       "Thiruvanvandoor                                                                                                                                                                20\n",
       "Niranam                                                                                                                                                                        20\n",
       "Edayaranmula                                                                                                                                                                   19\n",
       "Chendamangalam                                                                                                                                                                 18\n",
       "chalakudy                                                                                                                                                                      18\n",
       "Chengannoor                                                                                                                                                                    18\n",
       "Chalakkudy                                                                                                                                                                     17\n",
       "Kadukutty                                                                                                                                                                      17\n",
       "Budhanoor                                                                                                                                                                      16\n",
       "Kongorpilly                                                                                                                                                                    14\n",
       "Aranmula                                                                                                                                                                       14\n",
       "CHENGANNUR                                                                                                                                                                     14\n",
       "aluva                                                                                                                                                                          14\n",
       "Chalakudi                                                                                                                                                                      13\n",
       "kalady                                                                                                                                                                         13\n",
       "Kaladi                                                                                                                                                                         13\n",
       "Annamanada                                                                                                                                                                     13\n",
       "Peringara                                                                                                                                                                      13\n",
       "Chenganoor                                                                                                                                                                     13\n",
       "Parakkadavu                                                                                                                                                                    13\n",
       "                                                                                                                                                                             ... \n",
       "St.Antony's Chappel, Kalavarakadavu, Meloor                                                                                                                                     1\n",
       "ചാലക്കുടി, ചേനത്ത് നാട്, ഗവ. ഹോസ്പിറ്റലിന് സമീപം നടൻ കലാഭവൻ മണിയുടെ വീടിനുത്ത്                                                                                                  1\n",
       "Gandhipuram, Purayar Aluva near kottappilly kadavu                                                                                                                              1\n",
       "https://goo.gl/maps/yKeswZTZMBA2                                                                                                                                                1\n",
       "East cheranalloor                                                                                                                                                               1\n",
       "ഈസ്റ്റ് കടുങ്ങല്ലൂർ ജങ്ഷനു പുറക് വശം, മന്നിയേലിപ്പടി റോഡ്. വീട്ട് നമ്പർ - CRA 78  സൗമ്യ ബേക്കറിക്കടുത്തുനിന്നും ആദ്യത്തെ വലത്തേ തിരിവിലൂടെ പോയാൽ ഇടതുവശത്ത് ആറാമത്തെ വീട്.      1\n",
       "KOLAZHY UMANAGAR STREET 10                                                                                                                                                      1\n",
       "Thazhakara                                                                                                                                                                      1\n",
       ",3.5 km far fromKarimaloor,  chethikad                                                                                                                                          1\n",
       "Alathur                                                                                                                                                                         1\n",
       "12.3908053, 75.0968833                                                                                                                                                          1\n",
       "MUNNAR, POOPPARA                                                                                                                                                                1\n",
       "Chalakudy - pariyaram - moozhikkakadavu                                                                                                                                         1\n",
       "Top floor,utility centre ,sreeshankaracharya college hostel                                                                                                                     1\n",
       "Chalakkudi ,Meloor.                                                                                                                                                             1\n",
       "\"Mennu\". Kairali Junction. Chendamangalam                                                                                                                                       1\n",
       "Aranmula, kozhipalam, valukupadam                                                                                                                                               1\n",
       "Cheruvaloor, koratty                                                                                                                                                            1\n",
       "Inchathotty                                                                                                                                                                     1\n",
       "St Mary's L.P Schhol,Vadakkupuram,Bharanimukku,Chendamangalam                                                                                                                   1\n",
       "Anvita residency aluva                                                                                                                                                          1\n",
       "Pravinkoodu- Chengannur                                                                                                                                                         1\n",
       "ചെങ്ങന്നൂർ പാണ്ടനാട്  പള്ളിപ്പടിയിൽ മുരിയായിക്കര കടവ് ഭാഗത്ത്                                                                                                                   1\n",
       "thoppil house near ambady dairy house nannad thiruvanmandoor chengannur                                                                                                         1\n",
       "Kalady okkal anitha vidhyalayam                                                                                                                                                 1\n",
       "kairali jun vadakkumpuram  po                                                                                                                                                   1\n",
       "near Kanjoor-airport road, Vadakkumbhagom, 683111                                                                                                                               1\n",
       "Muttar, Kuttanad. PIN 689574.  Location : 9.394511,76.5021257,15.94                                                                                                             1\n",
       "kallissery                                                                                                                                                                      1\n",
       "Kadukutty panchayath, Annanad                                                                                                                                                   1\n",
       "Name: location, dtype: int64"
      ]
     },
     "execution_count": 71,
     "metadata": {},
     "output_type": "execute_result"
    }
   ],
   "source": [
    "df.location.value_counts()"
   ]
  },
  {
   "cell_type": "code",
   "execution_count": 67,
   "metadata": {},
   "outputs": [
    {
     "data": {
      "text/html": [
       "<div>\n",
       "<table border=\"1\" class=\"dataframe\">\n",
       "  <thead>\n",
       "    <tr style=\"text-align: right;\">\n",
       "      <th></th>\n",
       "      <th>location</th>\n",
       "      <th>latlng</th>\n",
       "    </tr>\n",
       "  </thead>\n",
       "  <tbody>\n",
       "    <tr>\n",
       "      <th>0</th>\n",
       "      <td>East kadangallur</td>\n",
       "      <td>10.0021295,76.3230197</td>\n",
       "    </tr>\n",
       "    <tr>\n",
       "      <th>1</th>\n",
       "      <td>Test</td>\n",
       "      <td>10.7208157,76.6447006</td>\n",
       "    </tr>\n",
       "    <tr>\n",
       "      <th>2</th>\n",
       "      <td>Muvattupuzha</td>\n",
       "      <td>9.7370423,77.155886</td>\n",
       "    </tr>\n",
       "    <tr>\n",
       "      <th>3</th>\n",
       "      <td>Thuravankara</td>\n",
       "      <td>10.3470498,76.2086201</td>\n",
       "    </tr>\n",
       "    <tr>\n",
       "      <th>4</th>\n",
       "      <td>Punnackadu</td>\n",
       "      <td>8.5565307,76.8810618</td>\n",
       "    </tr>\n",
       "  </tbody>\n",
       "</table>\n",
       "</div>"
      ],
      "text/plain": [
       "           location                 latlng\n",
       "0  East kadangallur  10.0021295,76.3230197\n",
       "1              Test  10.7208157,76.6447006\n",
       "2      Muvattupuzha    9.7370423,77.155886\n",
       "3      Thuravankara  10.3470498,76.2086201\n",
       "4        Punnackadu   8.5565307,76.8810618"
      ]
     },
     "execution_count": 67,
     "metadata": {},
     "output_type": "execute_result"
    }
   ],
   "source": [
    "df[[\"location\",\"latlng\"]].head(5)"
   ]
  },
  {
   "cell_type": "code",
   "execution_count": 46,
   "metadata": {},
   "outputs": [
    {
     "data": {
      "text/plain": [
       "ekm    2813\n",
       "ptm    1548\n",
       "alp    1468\n",
       "tcr    1209\n",
       "idk      52\n",
       "ktm      29\n",
       "tvm      28\n",
       "kol      23\n",
       "mpm      21\n",
       "koz      15\n",
       "pkd      15\n",
       "knr       6\n",
       "wnd       5\n",
       "ksr       5\n",
       "Name: district, dtype: int64"
      ]
     },
     "execution_count": 46,
     "metadata": {},
     "output_type": "execute_result"
    }
   ],
   "source": [
    "val_counts = df.district.value_counts()\n",
    "val_counts"
   ]
  },
  {
   "cell_type": "code",
   "execution_count": 47,
   "metadata": {},
   "outputs": [
    {
     "data": {
      "text/plain": [
       "<matplotlib.axes._subplots.AxesSubplot at 0x7f5c284fb6d0>"
      ]
     },
     "execution_count": 47,
     "metadata": {},
     "output_type": "execute_result"
    },
    {
     "data": {
      "image/png": "[encoded data removed]",
      "text/plain": [
       "<matplotlib.figure.Figure at 0x7f5c286a4ad0>"
      ]
     },
     "metadata": {},
     "output_type": "display_data"
    }
   ],
   "source": [
    "sns.barplot(x=val_counts.index, y=val_counts.values)"
   ]
  },
  {
   "cell_type": "markdown",
   "metadata": {},
   "source": [
    "- As evident from the distribution ; **Ernakulam** (ekm), **Pathanamathitta** (ptm) , **Alappuzha** (alp) and **Thrissur** (tcr) \n",
    "  looks like the most affected districts."
   ]
  },
  {
   "cell_type": "code",
   "execution_count": 48,
   "metadata": {},
   "outputs": [
    {
     "data": {
      "text/plain": [
       "(7237, 26)"
      ]
     },
     "execution_count": 48,
     "metadata": {},
     "output_type": "execute_result"
    }
   ],
   "source": [
    "df.shape"
   ]
  },
  {
   "cell_type": "markdown",
   "metadata": {},
   "source": [
    "- We have at this point of time 7237 requests being made."
   ]
  },
  {
   "cell_type": "markdown",
   "metadata": {},
   "source": [
    "# Utility functions"
   ]
  },
  {
   "cell_type": "code",
   "execution_count": 50,
   "metadata": {},
   "outputs": [],
   "source": [
    "PHONE_NUM_REGEX = \"^(?:(?:\\+|0{0,2})91(\\s*[\\-]\\s*)?|[0]?)?[789]\\d{9}$\"\n",
    "pattern = re.compile(PHONE_NUM_REGEX) \n",
    "lat_range = (8,10)\n",
    "lng_range = (74,78)"
   ]
  },
  {
   "cell_type": "code",
   "execution_count": 100,
   "metadata": {},
   "outputs": [],
   "source": [
    "def is_valid_num(ph_no): \n",
    "    return bool(re.match(pattern,ph_no)) "
   ]
  },
  {
   "cell_type": "code",
   "execution_count": 101,
   "metadata": {},
   "outputs": [],
   "source": [
    "def is_valid_kerala_lat_long(lat,lng):\n",
    "    return 8 <= lat <= 9 and 74<= lng <=78\n"
   ]
  },
  {
   "cell_type": "code",
   "execution_count": 102,
   "metadata": {},
   "outputs": [],
   "source": [
    "wtl = WhatTheLang()\n",
    "def identify_lang(text): \n",
    "    try :\n",
    "        return wtl.predict_lang(text)\n",
    "    except ValueError:\n",
    "        return \"NA\"\n",
    "        "
   ]
  },
  {
   "cell_type": "markdown",
   "metadata": {},
   "source": [
    "# Cleanup"
   ]
  },
  {
   "cell_type": "code",
   "execution_count": 84,
   "metadata": {},
   "outputs": [
    {
     "name": "stdout",
     "output_type": "stream",
     "text": [
      "Total Number of request is 7237\n",
      "Total Unique requests is 5505\n"
     ]
    }
   ],
   "source": [
    "print \"Total Number of request is {}\".format(df.shape[0])\n",
    "print \"Total Unique requests is {}\".format(df.requestee_phone.unique().shape[0])"
   ]
  },
  {
   "cell_type": "markdown",
   "metadata": {},
   "source": [
    "- We have duplicates and should be removed. More discussion happened [here](https://github.com/IEEEKeralaSection/rescuekerala/issues/419) about this. "
   ]
  },
  {
   "cell_type": "code",
   "execution_count": 86,
   "metadata": {},
   "outputs": [],
   "source": [
    "cleaned_df = df.copy()"
   ]
  },
  {
   "cell_type": "code",
   "execution_count": 90,
   "metadata": {},
   "outputs": [],
   "source": [
    "cleaned_df = cleaned_df.drop_duplicates(subset='requestee_phone')"
   ]
  },
  {
   "cell_type": "code",
   "execution_count": 93,
   "metadata": {},
   "outputs": [
    {
     "name": "stdout",
     "output_type": "stream",
     "text": [
      "Total requests after removing the duplicate phone numbers : 5505\n"
     ]
    }
   ],
   "source": [
    "print \"Total requests after removing the duplicate phone numbers : {}\".format(cleaned_df.shape[0])"
   ]
  },
  {
   "cell_type": "code",
   "execution_count": 94,
   "metadata": {},
   "outputs": [
    {
     "name": "stderr",
     "output_type": "stream",
     "text": [
      "/home/krishna/miniconda2/envs/citius/lib/python2.7/site-packages/ipykernel/__main__.py:1: SettingWithCopyWarning: \n",
      "A value is trying to be set on a copy of a slice from a DataFrame.\n",
      "Try using .loc[row_indexer,col_indexer] = value instead\n",
      "\n",
      "See the caveats in the documentation: http://pandas.pydata.org/pandas-docs/stable/indexing.html#indexing-view-versus-copy\n",
      "  if __name__ == '__main__':\n"
     ]
    }
   ],
   "source": [
    "cleaned_df[\"is_valid_phone\"]= cleaned_df.apply(lambda x : is_valid_num(x[\"requestee_phone\"]),axis =1)"
   ]
  },
  {
   "cell_type": "code",
   "execution_count": 95,
   "metadata": {},
   "outputs": [
    {
     "data": {
      "text/plain": [
       "True     5177\n",
       "False     328\n",
       "Name: is_valid_phone, dtype: int64"
      ]
     },
     "execution_count": 95,
     "metadata": {},
     "output_type": "execute_result"
    }
   ],
   "source": [
    "cleaned_df.is_valid_phone.value_counts()"
   ]
  },
  {
   "cell_type": "code",
   "execution_count": 96,
   "metadata": {},
   "outputs": [],
   "source": [
    "cleaned_df = cleaned_df[cleaned_df.is_valid_phone]"
   ]
  },
  {
   "cell_type": "code",
   "execution_count": 98,
   "metadata": {},
   "outputs": [
    {
     "name": "stdout",
     "output_type": "stream",
     "text": [
      "Total requests after removing the invalid phone numbers : 5177\n"
     ]
    }
   ],
   "source": [
    "print \"Total requests after removing the invalid phone numbers : {}\".format(cleaned_df.shape[0])"
   ]
  },
  {
   "cell_type": "code",
   "execution_count": 103,
   "metadata": {},
   "outputs": [],
   "source": [
    "cleaned_df[\"language\"] = cleaned_df.apply(lambda x : identify_lang(x[\"location\"]),axis =1)"
   ]
  },
  {
   "cell_type": "code",
   "execution_count": 108,
   "metadata": {},
   "outputs": [],
   "source": [
    "cleaned_df_ml = cleaned_df[cleaned_df.language == \"ml\"]"
   ]
  },
  {
   "cell_type": "code",
   "execution_count": 111,
   "metadata": {},
   "outputs": [
    {
     "name": "stdout",
     "output_type": "stream",
     "text": [
      "Number of requests made in Malayalam is : 178. These need to be handled differently\n"
     ]
    }
   ],
   "source": [
    "print \"Number of requests made in Malayalam is : {}. \\\n",
    "These need to be handled differently\".format(cleaned_df_ml.shape[0])"
   ]
  },
  {
   "cell_type": "code",
   "execution_count": 112,
   "metadata": {},
   "outputs": [],
   "source": [
    "cleaned_df = cleaned_df[cleaned_df.language != \"ml\"]"
   ]
  },
  {
   "cell_type": "code",
   "execution_count": 120,
   "metadata": {
    "scrolled": false
   },
   "outputs": [
    {
     "data": {
      "text/plain": [
       "Aluva              78\n",
       "Chengannur         67\n",
       "Chalakudy          60\n",
       "Thiruvalla         50\n",
       "Kalady             41\n",
       "Poovathussery      36\n",
       "Pandanad           30\n",
       "Ayroor             17\n",
       "chengannur         17\n",
       "Thiruvanvandoor    15\n",
       "Name: location, dtype: int64"
      ]
     },
     "execution_count": 120,
     "metadata": {},
     "output_type": "execute_result"
    }
   ],
   "source": [
    "cleaned_df.location.value_counts()[:10]"
   ]
  },
  {
   "cell_type": "markdown",
   "metadata": {},
   "source": [
    "- We can see that there are duplicates and typos in the location names. We need to handle basic typos."
   ]
  },
  {
   "cell_type": "code",
   "execution_count": 122,
   "metadata": {},
   "outputs": [],
   "source": [
    "cleaned_df[\"location\"] = cleaned_df.location.apply(lambda x : x.lower())"
   ]
  },
  {
   "cell_type": "code",
   "execution_count": 125,
   "metadata": {},
   "outputs": [
    {
     "data": {
      "text/plain": [
       "chengannur                                                                96\n",
       "aluva                                                                     95\n",
       "chalakudy                                                                 70\n",
       "thiruvalla                                                                61\n",
       "kalady                                                                    50\n",
       "poovathussery                                                             41\n",
       "pandanad                                                                  35\n",
       "thiruvanvandoor                                                           20\n",
       "north paravur                                                             20\n",
       "chalakkudy                                                                19\n",
       "ayroor                                                                    18\n",
       "chendamangalam                                                            17\n",
       "niranam                                                                   16\n",
       "kadukutty                                                                 15\n",
       "arattupuzha                                                               15\n",
       "chenganoor                                                                15\n",
       "kongorpilly                                                               14\n",
       "east kadungalloor                                                         14\n",
       "aranmula                                                                  14\n",
       "edayaranmula                                                              13\n",
       "budhanoor                                                                 12\n",
       "parakkadavu                                                               12\n",
       "chalakudi                                                                 12\n",
       "chengannoor                                                               12\n",
       "muvattupuzha                                                              11\n",
       "annamanada                                                                11\n",
       "panayikulam                                                               10\n",
       "pandanadu                                                                 10\n",
       "thottakattukara                                                            9\n",
       "mangalam                                                                   9\n",
       "                                                                          ..\n",
       "east kadungalloor aluva                                                    2\n",
       "niranam, thiruvalla                                                        2\n",
       "puthukary                                                                  2\n",
       "vayaloor shiva temple, vayaloor, nellayi, 680305                           2\n",
       "east kadungallur, aluva                                                    2\n",
       "east desom                                                                 2\n",
       "thiruvalla, thiruvanvandoor                                                2\n",
       "kozhenchery                                                                2\n",
       "veliyanadu                                                                 2\n",
       "vallamkulam, thiruvalla                                                    2\n",
       "kallissery, umayattukara, edakadave, vadakanathu house                     2\n",
       "nedumudi                                                                   2\n",
       "peroor                                                                     2\n",
       "moozhikulam                                                                2\n",
       "muttar                                                                     2\n",
       "pandanaad                                                                  2\n",
       "chalakudy golden nagar palliseri road                                      2\n",
       "potta                                                                      2\n",
       "omalloor                                                                   2\n",
       "kalady kaippattoor enchackal kavala                                        2\n",
       "chegannur                                                                  2\n",
       "pacha,edathua                                                              2\n",
       "kalladi                                                                    2\n",
       "west chalakudy, kottat                                                     2\n",
       "desom                                                                      2\n",
       "chowwara                                                                   2\n",
       "cherappadam                                                                2\n",
       "tripunithura                                                               2\n",
       "pathanamthitta                                                             2\n",
       "vadakkethil, ala p.o, chengannur (near..st.george orthdox church, ala)     2\n",
       "Name: location, dtype: int64"
      ]
     },
     "execution_count": 125,
     "metadata": {},
     "output_type": "execute_result"
    }
   ],
   "source": [
    "cleaned_df.location.value_counts()[:200]"
   ]
  },
  {
   "cell_type": "markdown",
   "metadata": {},
   "source": [
    "- We can see that Chengannur is clearly one of the most affected. But can also see places mentioned as `chegannur` etc ; We can try to do use some distance metric to find the ones which are obvious typo"
   ]
  },
  {
   "cell_type": "code",
   "execution_count": 130,
   "metadata": {},
   "outputs": [
    {
     "data": {
      "text/plain": [
       "0.9296296296296296"
      ]
     },
     "execution_count": 130,
     "metadata": {},
     "output_type": "execute_result"
    }
   ],
   "source": [
    "jellyfish.jaro_distance(u\"chengannur\",u\"chegannur\")"
   ]
  },
  {
   "cell_type": "markdown",
   "metadata": {},
   "source": [
    "- Jaro distance seems to be a good metric here. We can try to find the closest matching string to the \n",
    "below locations (top 15)\n",
    "       u'chengannur', u'aluva', u'chalakudy', u'thiruvalla', u'kalady',\n",
    "       u'poovathussery', u'pandanad', u'thiruvanvandoor', u'north paravur',\n",
    "       u'chalakkudy', u'ayroor', u'chendamangalam', u'niranam', u'kadukutty',\n",
    "       u'arattupuzha'"
   ]
  },
  {
   "cell_type": "code",
   "execution_count": 144,
   "metadata": {},
   "outputs": [],
   "source": [
    "all_location = cleaned_df.location.unique().tolist()"
   ]
  },
  {
   "cell_type": "code",
   "execution_count": 138,
   "metadata": {},
   "outputs": [
    {
     "data": {
      "text/plain": [
       "[u'chengannur',\n",
       " u'aluva',\n",
       " u'chalakudy',\n",
       " u'thiruvalla',\n",
       " u'kalady',\n",
       " u'poovathussery',\n",
       " u'pandanad',\n",
       " u'thiruvanvandoor',\n",
       " u'north paravur',\n",
       " u'chalakkudy',\n",
       " u'ayroor',\n",
       " u'chendamangalam',\n",
       " u'niranam',\n",
       " u'kadukutty',\n",
       " u'arattupuzha']"
      ]
     },
     "execution_count": 138,
     "metadata": {},
     "output_type": "execute_result"
    }
   ],
   "source": [
    "top_15_loc = cleaned_df.location.value_counts()[:15].index.tolist()\n",
    "top_15_loc"
   ]
  },
  {
   "cell_type": "code",
   "execution_count": 157,
   "metadata": {},
   "outputs": [],
   "source": [
    "def build_mapping(all_location,top_15_loc):\n",
    "    loc_mapping = {}\n",
    "    for loc in all_location:\n",
    "        for tloc in top_15_loc:\n",
    "            max_dist = 0\n",
    "            if loc == tloc:\n",
    "                continue\n",
    "            else:\n",
    "                sim = jellyfish.jaro_distance(loc,tloc)\n",
    "                if sim > 0.85 and sim > loc_mapping.get(\"loc\",0):\n",
    "                    loc_mapping[loc] = tloc\n",
    "    return loc_mapping"
   ]
  },
  {
   "cell_type": "code",
   "execution_count": 159,
   "metadata": {
    "scrolled": false
   },
   "outputs": [
    {
     "data": {
      "text/plain": [
       "{u'aaraattupuzha': u'arattupuzha',\n",
       " u'aarattupuhza': u'arattupuzha',\n",
       " u'aarattupuzha': u'arattupuzha',\n",
       " u'aaratupuzha': u'arattupuzha',\n",
       " u'aliva': u'aluva',\n",
       " u'aluva,': u'aluva',\n",
       " u'aratpuzha': u'arattupuzha',\n",
       " u'arattupuza': u'arattupuzha',\n",
       " u'arattupuzha bridge': u'arattupuzha',\n",
       " u'aratuppuzha': u'arattupuzha',\n",
       " u'aratupuzha': u'arattupuzha',\n",
       " u'ayiroor': u'ayroor',\n",
       " u'chalakka': u'chalakkudy',\n",
       " u'chalakkkudy': u'chalakkudy',\n",
       " u'chalakkudi': u'chalakkudy',\n",
       " u'chalakkudy': u'chalakudy',\n",
       " u'chalakkudy south': u'chalakkudy',\n",
       " u'chalakuddy': u'chalakkudy',\n",
       " u'chalakudi': u'chalakkudy',\n",
       " u'chalakudy': u'chalakkudy',\n",
       " u'chalakudy meloor': u'chalakudy',\n",
       " u'chalakudy,meloor': u'chalakudy',\n",
       " u'chegannur': u'chengannur',\n",
       " u'chenagnnur': u'chengannur',\n",
       " u'chendamangalam panchayath': u'chendamangalam',\n",
       " u'chendamangalam paravur': u'chendamangalam',\n",
       " u'chendamangalam, paravoor': u'chendamangalam',\n",
       " u'chendamangalam, paravur': u'chendamangalam',\n",
       " u'chengamanad': u'chendamangalam',\n",
       " u'chengannoor': u'chengannur',\n",
       " u'chengannor': u'chengannur',\n",
       " u'chengannur edakavu': u'chengannur',\n",
       " u'chengannur, othara': u'chengannur',\n",
       " u'chengannuur': u'chengannur',\n",
       " u'chenganoor': u'chengannur',\n",
       " u'chenganur': u'chengannur',\n",
       " u'chenganuur': u'chengannur',\n",
       " u'chenghannoor': u'chengannur',\n",
       " u'chenghannur': u'chengannur',\n",
       " u'chennamangalam': u'chendamangalam',\n",
       " u'dims chalakkudy': u'chalakkudy',\n",
       " u'kaadukutty': u'kadukutty',\n",
       " u'kaladi': u'kalady',\n",
       " u'kallady': u'kalady',\n",
       " u'maroor': u'ayroor',\n",
       " u'mekalady': u'kalady',\n",
       " u'niranam west': u'niranam',\n",
       " u'nort paravoor': u'north paravur',\n",
       " u'north  paravoor': u'north paravur',\n",
       " u'north paravoor': u'north paravur',\n",
       " u'north paravoot': u'north paravur',\n",
       " u'padanada': u'pandanad',\n",
       " u'panadanad': u'pandanad',\n",
       " u'pandanaad': u'pandanad',\n",
       " u'pandanad west': u'pandanad',\n",
       " u'pandanadu': u'pandanad',\n",
       " u'pandand': u'pandanad',\n",
       " u'poovathur': u'poovathussery',\n",
       " u'poovathuserry': u'poovathussery',\n",
       " u'poovathusery': u'poovathussery',\n",
       " u'poovathusherry': u'poovathussery',\n",
       " u'poovathusseri, mala': u'poovathussery',\n",
       " u'poovathussery church': u'poovathussery',\n",
       " u'poovathussery palupuzha': u'poovathussery',\n",
       " u'poovathussery, aluva': u'poovathussery',\n",
       " u'poovathussry': u'poovathussery',\n",
       " u'puvathussery': u'poovathussery',\n",
       " u'thiruvala': u'thiruvalla',\n",
       " u'thiruvalla kuttoor': u'thiruvalla',\n",
       " u'thiruvamandoor': u'thiruvanvandoor',\n",
       " u'thiruvandoor': u'thiruvanvandoor',\n",
       " u'thiruvanmandoor': u'thiruvanvandoor',\n",
       " u'thiruvanmundoor': u'thiruvanvandoor',\n",
       " u'thiruvanvadoor': u'thiruvanvandoor',\n",
       " u'thiruvanvanddur': u'thiruvanvandoor',\n",
       " u'thiruvanvandoor , madavana': u'thiruvanvandoor',\n",
       " u'thiruvanvandoor ,chengannur': u'thiruvanvandoor',\n",
       " u'thiruvanvandoor chengannur,': u'thiruvanvandoor',\n",
       " u'thiruvanvandoor temple': u'thiruvanvandoor',\n",
       " u'thiruvanvandor': u'thiruvanvandoor',\n",
       " u'thiruvanvanfoor': u'thiruvanvandoor',\n",
       " u'thiruvanwandoor': u'thiruvanvandoor',\n",
       " u'thirvalla': u'thiruvalla',\n",
       " u'thrivanvandoor': u'thiruvanvandoor',\n",
       " u'tiruvalla': u'thiruvalla',\n",
       " u'tiruvallla': u'thiruvalla',\n",
       " u'west chalakkudy': u'chalakkudy',\n",
       " u'west chalakudy': u'chalakudy'}"
      ]
     },
     "execution_count": 159,
     "metadata": {},
     "output_type": "execute_result"
    }
   ],
   "source": [
    "loc_mapping = build_mapping(all_location,top_15_loc)\n",
    "loc_mapping"
   ]
  },
  {
   "cell_type": "markdown",
   "metadata": {},
   "source": [
    "- Mapping Looks good. We will map these locations also to the top 15 locations"
   ]
  },
  {
   "cell_type": "code",
   "execution_count": 160,
   "metadata": {},
   "outputs": [],
   "source": [
    "def map_location(location): return loc_mapping.get(location,location)"
   ]
  },
  {
   "cell_type": "code",
   "execution_count": 161,
   "metadata": {},
   "outputs": [],
   "source": [
    "cleaned_df[\"new_location\"] = cleaned_df.apply(lambda x : map_location(x[\"location\"]),axis =1)"
   ]
  },
  {
   "cell_type": "code",
   "execution_count": 163,
   "metadata": {
    "scrolled": false
   },
   "outputs": [
    {
     "data": {
      "text/plain": [
       "chengannur           141\n",
       "aluva                 97\n",
       "chalakkudy            95\n",
       "thiruvalla            68\n",
       "kalady                59\n",
       "poovathussery         53\n",
       "pandanad              51\n",
       "thiruvanvandoor       38\n",
       "north paravur         31\n",
       "chalakudy             28\n",
       "arattupuzha           27\n",
       "chendamangalam        26\n",
       "ayroor                23\n",
       "niranam               17\n",
       "kadukutty             17\n",
       "east kadungalloor     14\n",
       "kongorpilly           14\n",
       "aranmula              14\n",
       "edayaranmula          13\n",
       "budhanoor             12\n",
       "Name: new_location, dtype: int64"
      ]
     },
     "execution_count": 163,
     "metadata": {},
     "output_type": "execute_result"
    }
   ],
   "source": [
    "cleaned_df.new_location.value_counts()[:20]"
   ]
  },
  {
   "cell_type": "code",
   "execution_count": null,
   "metadata": {},
   "outputs": [],
   "source": [
    "- This is the Top 20 affected locations along with number of requests"
   ]
  }
 ],
 "metadata": {
  "kernelspec": {
   "display_name": "Python [conda env:citius]",
   "language": "python",
   "name": "conda-env-citius-py"
  },
  "language_info": {
   "codemirror_mode": {
    "name": "ipython",
    "version": 2
   },
   "file_extension": ".py",
   "mimetype": "text/x-python",
   "name": "python",
   "nbconvert_exporter": "python",
   "pygments_lexer": "ipython2",
   "version": "2.7.14"
  }
 },
 "nbformat": 4,
 "nbformat_minor": 2
}
