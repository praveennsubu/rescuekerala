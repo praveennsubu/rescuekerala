{
 "cells": [
  {
   "cell_type": "markdown",
   "metadata": {},
   "source": [
    "## Get Data"
   ]
  },
  {
   "cell_type": "code",
   "execution_count": 164,
   "metadata": {},
   "outputs": [],
   "source": [
    "import pandas as pd\n",
    "import requests\n",
    "import seaborn as sns\n",
    "import re\n",
    "from whatthelang import WhatTheLang\n",
    "import jellyfish"
   ]
  },
  {
   "cell_type": "code",
   "execution_count": 165,
   "metadata": {},
   "outputs": [],
   "source": [
    "URL = \"https://keralarescue.in/data/\""
   ]
  },
  {
   "cell_type": "code",
   "execution_count": 166,
   "metadata": {},
   "outputs": [],
   "source": [
    "df = pd.read_json(requests.get(url).text)"
   ]
  },
  {
   "cell_type": "code",
   "execution_count": 167,
   "metadata": {},
   "outputs": [
    {
     "data": {
      "text/html": [
       "<div>\n",
       "<table border=\"1\" class=\"dataframe\">\n",
       "  <thead>\n",
       "    <tr style=\"text-align: right;\">\n",
       "      <th></th>\n",
       "      <th>dateadded</th>\n",
       "      <th>detailcloth</th>\n",
       "      <th>detailfood</th>\n",
       "      <th>detailkit_util</th>\n",
       "      <th>detailmed</th>\n",
       "      <th>detailrescue</th>\n",
       "      <th>detailtoilet</th>\n",
       "      <th>detailwater</th>\n",
       "      <th>district</th>\n",
       "      <th>id</th>\n",
       "      <th>...</th>\n",
       "      <th>needkit_util</th>\n",
       "      <th>needmed</th>\n",
       "      <th>needothers</th>\n",
       "      <th>needrescue</th>\n",
       "      <th>needtoilet</th>\n",
       "      <th>needwater</th>\n",
       "      <th>requestee</th>\n",
       "      <th>requestee_phone</th>\n",
       "      <th>status</th>\n",
       "      <th>supply_details</th>\n",
       "    </tr>\n",
       "  </thead>\n",
       "  <tbody>\n",
       "    <tr>\n",
       "      <th>0</th>\n",
       "      <td>2018-08-16T09:17:58.895Z</td>\n",
       "      <td></td>\n",
       "      <td></td>\n",
       "      <td></td>\n",
       "      <td></td>\n",
       "      <td></td>\n",
       "      <td></td>\n",
       "      <td></td>\n",
       "      <td>ekm</td>\n",
       "      <td>6765</td>\n",
       "      <td>...</td>\n",
       "      <td>False</td>\n",
       "      <td>False</td>\n",
       "      <td>Rescue from water filled house</td>\n",
       "      <td>False</td>\n",
       "      <td>False</td>\n",
       "      <td>False</td>\n",
       "      <td>Sreeram</td>\n",
       "      <td>094470581</td>\n",
       "      <td>new</td>\n",
       "      <td></td>\n",
       "    </tr>\n",
       "    <tr>\n",
       "      <th>1</th>\n",
       "      <td>2018-08-16T09:21:22.609Z</td>\n",
       "      <td></td>\n",
       "      <td></td>\n",
       "      <td></td>\n",
       "      <td></td>\n",
       "      <td></td>\n",
       "      <td></td>\n",
       "      <td></td>\n",
       "      <td>idk</td>\n",
       "      <td>6794</td>\n",
       "      <td>...</td>\n",
       "      <td>False</td>\n",
       "      <td>False</td>\n",
       "      <td></td>\n",
       "      <td>False</td>\n",
       "      <td>False</td>\n",
       "      <td>False</td>\n",
       "      <td>Test</td>\n",
       "      <td>Test</td>\n",
       "      <td>new</td>\n",
       "      <td></td>\n",
       "    </tr>\n",
       "  </tbody>\n",
       "</table>\n",
       "<p>2 rows × 26 columns</p>\n",
       "</div>"
      ],
      "text/plain": [
       "                  dateadded detailcloth detailfood detailkit_util detailmed  \\\n",
       "0  2018-08-16T09:17:58.895Z                                                   \n",
       "1  2018-08-16T09:21:22.609Z                                                   \n",
       "\n",
       "  detailrescue detailtoilet detailwater district    id      ...        \\\n",
       "0                                            ekm  6765      ...         \n",
       "1                                            idk  6794      ...         \n",
       "\n",
       "  needkit_util needmed                      needothers needrescue needtoilet  \\\n",
       "0        False   False  Rescue from water filled house      False      False   \n",
       "1        False   False                                      False      False   \n",
       "\n",
       "  needwater requestee requestee_phone status supply_details  \n",
       "0     False   Sreeram       094470581    new                 \n",
       "1     False      Test            Test    new                 \n",
       "\n",
       "[2 rows x 26 columns]"
      ]
     },
     "execution_count": 167,
     "metadata": {},
     "output_type": "execute_result"
    }
   ],
   "source": [
    "df.head(2)"
   ]
  },
  {
   "cell_type": "code",
   "execution_count": 168,
   "metadata": {},
   "outputs": [
    {
     "data": {
      "text/plain": [
       "Index([u'dateadded', u'detailcloth', u'detailfood', u'detailkit_util',\n",
       "       u'detailmed', u'detailrescue', u'detailtoilet', u'detailwater',\n",
       "       u'district', u'id', u'is_request_for_others', u'latlng',\n",
       "       u'latlng_accuracy', u'location', u'needcloth', u'needfood',\n",
       "       u'needkit_util', u'needmed', u'needothers', u'needrescue',\n",
       "       u'needtoilet', u'needwater', u'requestee', u'requestee_phone',\n",
       "       u'status', u'supply_details'],\n",
       "      dtype='object')"
      ]
     },
     "execution_count": 168,
     "metadata": {},
     "output_type": "execute_result"
    }
   ],
   "source": [
    "df.columns"
   ]
  },
  {
   "cell_type": "markdown",
   "metadata": {},
   "source": [
    "- We have the above columns available"
   ]
  },
  {
   "cell_type": "markdown",
   "metadata": {},
   "source": [
    "## Distribution of requests  across districts"
   ]
  },
  {
   "cell_type": "code",
   "execution_count": 169,
   "metadata": {},
   "outputs": [
    {
     "data": {
      "text/plain": [
       "ekm    2853\n",
       "ptm    1573\n",
       "alp    1531\n",
       "tcr    1224\n",
       "idk      52\n",
       "ktm      33\n",
       "tvm      28\n",
       "kol      23\n",
       "mpm      22\n",
       "koz      15\n",
       "pkd      15\n",
       "knr       6\n",
       "wnd       5\n",
       "ksr       5\n",
       "Name: district, dtype: int64"
      ]
     },
     "execution_count": 169,
     "metadata": {},
     "output_type": "execute_result"
    }
   ],
   "source": [
    "val_counts = df.district.value_counts()\n",
    "val_counts"
   ]
  },
  {
   "cell_type": "code",
   "execution_count": 171,
   "metadata": {},
   "outputs": [
    {
     "data": {
      "text/plain": [
       "<matplotlib.axes._subplots.AxesSubplot at 0x7f5c1147f550>"
      ]
     },
     "execution_count": 171,
     "metadata": {},
     "output_type": "execute_result"
    },
    {
     "data": {
      "image/png": "[encoded data removed]",
      "text/plain": [
       "<matplotlib.figure.Figure at 0x7f5c23c29fd0>"
      ]
     },
     "metadata": {},
     "output_type": "display_data"
    }
   ],
   "source": [
    "sns.barplot(x=val_counts.index, y=val_counts.values)"
   ]
  },
  {
   "cell_type": "markdown",
   "metadata": {},
   "source": [
    "- As evident from the distribution ; **Ernakulam** (ekm), **Pathanamathitta** (ptm) , **Alappuzha** (alp) and **Thrissur** (tcr) \n",
    "  looks like the most affected districts."
   ]
  },
  {
   "cell_type": "code",
   "execution_count": 172,
   "metadata": {},
   "outputs": [
    {
     "data": {
      "text/plain": [
       "(7385, 26)"
      ]
     },
     "execution_count": 172,
     "metadata": {},
     "output_type": "execute_result"
    }
   ],
   "source": [
    "df.shape"
   ]
  },
  {
   "cell_type": "markdown",
   "metadata": {},
   "source": [
    "- We have at this point of time 7385 requests being made."
   ]
  },
  {
   "cell_type": "markdown",
   "metadata": {},
   "source": [
    "# Utility functions"
   ]
  },
  {
   "cell_type": "code",
   "execution_count": 173,
   "metadata": {},
   "outputs": [],
   "source": [
    "PHONE_NUM_REGEX = \"^(?:(?:\\+|0{0,2})91(\\s*[\\-]\\s*)?|[0]?)?[789]\\d{9}$\"\n",
    "pattern = re.compile(PHONE_NUM_REGEX) \n",
    "lat_range = (8,10)\n",
    "lng_range = (74,78)"
   ]
  },
  {
   "cell_type": "code",
   "execution_count": 174,
   "metadata": {},
   "outputs": [],
   "source": [
    "def is_valid_num(ph_no): \n",
    "    return bool(re.match(pattern,ph_no)) "
   ]
  },
  {
   "cell_type": "code",
   "execution_count": 175,
   "metadata": {},
   "outputs": [],
   "source": [
    "def is_valid_kerala_lat_long(lat,lng):\n",
    "    return 8 <= lat <= 9 and 74<= lng <=78\n"
   ]
  },
  {
   "cell_type": "code",
   "execution_count": 176,
   "metadata": {},
   "outputs": [],
   "source": [
    "wtl = WhatTheLang()\n",
    "def identify_lang(text): \n",
    "    try :\n",
    "        return wtl.predict_lang(text)\n",
    "    except ValueError:\n",
    "        return \"NA\"\n",
    "        "
   ]
  },
  {
   "cell_type": "markdown",
   "metadata": {},
   "source": [
    "# Cleanup"
   ]
  },
  {
   "cell_type": "code",
   "execution_count": 177,
   "metadata": {},
   "outputs": [
    {
     "name": "stdout",
     "output_type": "stream",
     "text": [
      "Total Number of request is 7385\n",
      "Total Unique requests is 5599\n"
     ]
    }
   ],
   "source": [
    "print \"Total Number of request is {}\".format(df.shape[0])\n",
    "print \"Total Unique requests is {}\".format(df.requestee_phone.unique().shape[0])"
   ]
  },
  {
   "cell_type": "markdown",
   "metadata": {},
   "source": [
    "- We have duplicates and should be removed. More discussion happened [here](https://github.com/IEEEKeralaSection/rescuekerala/issues/419) about this. "
   ]
  },
  {
   "cell_type": "code",
   "execution_count": 178,
   "metadata": {},
   "outputs": [],
   "source": [
    "cleaned_df = df.copy()"
   ]
  },
  {
   "cell_type": "code",
   "execution_count": 179,
   "metadata": {},
   "outputs": [],
   "source": [
    "cleaned_df = cleaned_df.drop_duplicates(subset='requestee_phone')"
   ]
  },
  {
   "cell_type": "code",
   "execution_count": 180,
   "metadata": {},
   "outputs": [
    {
     "name": "stdout",
     "output_type": "stream",
     "text": [
      "Total requests after removing the duplicate phone numbers : 5599\n"
     ]
    }
   ],
   "source": [
    "print \"Total requests after removing the duplicate phone numbers : {}\".format(cleaned_df.shape[0])"
   ]
  },
  {
   "cell_type": "code",
   "execution_count": 181,
   "metadata": {},
   "outputs": [],
   "source": [
    "cleaned_df[\"is_valid_phone\"]= cleaned_df.apply(lambda x : is_valid_num(x[\"requestee_phone\"]),axis =1)"
   ]
  },
  {
   "cell_type": "code",
   "execution_count": 182,
   "metadata": {},
   "outputs": [
    {
     "data": {
      "text/plain": [
       "True     5260\n",
       "False     339\n",
       "Name: is_valid_phone, dtype: int64"
      ]
     },
     "execution_count": 182,
     "metadata": {},
     "output_type": "execute_result"
    }
   ],
   "source": [
    "cleaned_df.is_valid_phone.value_counts()"
   ]
  },
  {
   "cell_type": "code",
   "execution_count": 183,
   "metadata": {},
   "outputs": [],
   "source": [
    "cleaned_df = cleaned_df[cleaned_df.is_valid_phone]"
   ]
  },
  {
   "cell_type": "code",
   "execution_count": 184,
   "metadata": {},
   "outputs": [
    {
     "name": "stdout",
     "output_type": "stream",
     "text": [
      "Total requests after removing the invalid phone numbers : 5260\n"
     ]
    }
   ],
   "source": [
    "print \"Total requests after removing the invalid phone numbers : {}\".format(cleaned_df.shape[0])"
   ]
  },
  {
   "cell_type": "code",
   "execution_count": 185,
   "metadata": {},
   "outputs": [],
   "source": [
    "cleaned_df[\"language\"] = cleaned_df.apply(lambda x : identify_lang(x[\"location\"]),axis =1)"
   ]
  },
  {
   "cell_type": "code",
   "execution_count": 186,
   "metadata": {},
   "outputs": [],
   "source": [
    "cleaned_df_ml = cleaned_df[cleaned_df.language == \"ml\"]"
   ]
  },
  {
   "cell_type": "code",
   "execution_count": 187,
   "metadata": {},
   "outputs": [
    {
     "name": "stdout",
     "output_type": "stream",
     "text": [
      "Number of requests made in Malayalam is : 183. These need to be handled differently\n"
     ]
    }
   ],
   "source": [
    "print \"Number of requests made in Malayalam is : {}. \\\n",
    "These need to be handled differently\".format(cleaned_df_ml.shape[0])"
   ]
  },
  {
   "cell_type": "code",
   "execution_count": 188,
   "metadata": {},
   "outputs": [],
   "source": [
    "cleaned_df = cleaned_df[cleaned_df.language != \"ml\"]"
   ]
  },
  {
   "cell_type": "code",
   "execution_count": 189,
   "metadata": {
    "scrolled": false
   },
   "outputs": [
    {
     "data": {
      "text/plain": [
       "Aluva              78\n",
       "Chengannur         75\n",
       "Chalakudy          60\n",
       "Thiruvalla         52\n",
       "Kalady             41\n",
       "Poovathussery      36\n",
       "Pandanad           32\n",
       "Ayroor             17\n",
       "chengannur         17\n",
       "Thiruvanvandoor    15\n",
       "Name: location, dtype: int64"
      ]
     },
     "execution_count": 189,
     "metadata": {},
     "output_type": "execute_result"
    }
   ],
   "source": [
    "cleaned_df.location.value_counts()[:10]"
   ]
  },
  {
   "cell_type": "markdown",
   "metadata": {},
   "source": [
    "- We can see that there are duplicates and typos in the location names. We need to handle basic typos."
   ]
  },
  {
   "cell_type": "code",
   "execution_count": 190,
   "metadata": {},
   "outputs": [],
   "source": [
    "cleaned_df[\"location\"] = cleaned_df.location.apply(lambda x : x.lower())"
   ]
  },
  {
   "cell_type": "code",
   "execution_count": 191,
   "metadata": {},
   "outputs": [
    {
     "data": {
      "text/plain": [
       "chengannur                                                                                                  104\n",
       "aluva                                                                                                        95\n",
       "chalakudy                                                                                                    70\n",
       "thiruvalla                                                                                                   63\n",
       "kalady                                                                                                       50\n",
       "poovathussery                                                                                                41\n",
       "pandanad                                                                                                     37\n",
       "north paravur                                                                                                21\n",
       "thiruvanvandoor                                                                                              20\n",
       "chalakkudy                                                                                                   19\n",
       "ayroor                                                                                                       18\n",
       "chendamangalam                                                                                               17\n",
       "niranam                                                                                                      16\n",
       "arattupuzha                                                                                                  15\n",
       "kongorpilly                                                                                                  15\n",
       "kadukutty                                                                                                    15\n",
       "chenganoor                                                                                                   15\n",
       "east kadungalloor                                                                                            14\n",
       "aranmula                                                                                                     14\n",
       "edayaranmula                                                                                                 13\n",
       "chengannoor                                                                                                  13\n",
       "parakkadavu                                                                                                  12\n",
       "chalakudi                                                                                                    12\n",
       "budhanoor                                                                                                    12\n",
       "muvattupuzha                                                                                                 11\n",
       "annamanada                                                                                                   11\n",
       "thottakattukara                                                                                              10\n",
       "mangalam                                                                                                     10\n",
       "panayikulam                                                                                                  10\n",
       "pandanadu                                                                                                    10\n",
       "                                                                                                           ... \n",
       "thengeli                                                                                                      2\n",
       "niranam, thiruvalla                                                                                           2\n",
       "nedumudi                                                                                                      2\n",
       "vadakkethil, ala p.o, chengannur (near..st.george orthdox church, ala)                                        2\n",
       "gothuruth, pin- 683516                                                                                        2\n",
       "aduvasseri near ice plant                                                                                     2\n",
       "thymaravumkara                                                                                                2\n",
       "karakkal                                                                                                      2\n",
       "thirumuppam                                                                                                   2\n",
       "chengal                                                                                                       2\n",
       "kaippattoor, kalady                                                                                           2\n",
       "10.1735150,76.4404650,house no 35,ward no 12,puthenkavu road,kalady,683574                                    2\n",
       "kodumthara                                                                                                    2\n",
       "chenganur mangalam                                                                                            2\n",
       "kallisery                                                                                                     2\n",
       "moozhikkulam temple                                                                                           2\n",
       "aratupuzha                                                                                                    2\n",
       "adimali                                                                                                       2\n",
       "moozhikulam                                                                                                   2\n",
       "vavakad                                                                                                       2\n",
       "kundoor, mala                                                                                                 2\n",
       "pandanadu chenganoor                                                                                          2\n",
       "meloor kalavarakadavu                                                                                         2\n",
       "vazharmangalam                                                                                                2\n",
       "kottamam, kalady                                                                                              2\n",
       "thiruvalla- nellad- othera- kuttickattupadi- thaylathupadi- chappathi padi road right side il 5 am veedu      2\n",
       "vanavathukara thiruvanvandoor                                                                                 2\n",
       "aluva desom                                                                                                   2\n",
       "alangad panayikulam, kottapillykunnu                                                                          2\n",
       "pathanamthitta                                                                                                2\n",
       "Name: location, dtype: int64"
      ]
     },
     "execution_count": 191,
     "metadata": {},
     "output_type": "execute_result"
    }
   ],
   "source": [
    "cleaned_df.location.value_counts()[:200]"
   ]
  },
  {
   "cell_type": "markdown",
   "metadata": {},
   "source": [
    "- We can see that Chengannur is clearly one of the most affected. But can also see places mentioned as `chegannur` etc ; We can try to do use some distance metric to find the ones which are obvious typo"
   ]
  },
  {
   "cell_type": "code",
   "execution_count": 192,
   "metadata": {},
   "outputs": [
    {
     "data": {
      "text/plain": [
       "0.9296296296296296"
      ]
     },
     "execution_count": 192,
     "metadata": {},
     "output_type": "execute_result"
    }
   ],
   "source": [
    "jellyfish.jaro_distance(u\"chengannur\",u\"chegannur\")"
   ]
  },
  {
   "cell_type": "markdown",
   "metadata": {},
   "source": [
    "- Jaro distance seems to be a good metric here. We can try to find the closest matching string to the \n",
    "below locations (top 15)\n",
    "       u'chengannur', u'aluva', u'chalakudy', u'thiruvalla', u'kalady',\n",
    "       u'poovathussery', u'pandanad', u'thiruvanvandoor', u'north paravur',\n",
    "       u'chalakkudy', u'ayroor', u'chendamangalam', u'niranam', u'kadukutty',\n",
    "       u'arattupuzha'"
   ]
  },
  {
   "cell_type": "code",
   "execution_count": 193,
   "metadata": {},
   "outputs": [],
   "source": [
    "all_location = cleaned_df.location.unique().tolist()"
   ]
  },
  {
   "cell_type": "code",
   "execution_count": 194,
   "metadata": {},
   "outputs": [
    {
     "data": {
      "text/plain": [
       "[u'chengannur',\n",
       " u'aluva',\n",
       " u'chalakudy',\n",
       " u'thiruvalla',\n",
       " u'kalady',\n",
       " u'poovathussery',\n",
       " u'pandanad',\n",
       " u'north paravur',\n",
       " u'thiruvanvandoor',\n",
       " u'chalakkudy',\n",
       " u'ayroor',\n",
       " u'chendamangalam',\n",
       " u'niranam',\n",
       " u'arattupuzha',\n",
       " u'kongorpilly']"
      ]
     },
     "execution_count": 194,
     "metadata": {},
     "output_type": "execute_result"
    }
   ],
   "source": [
    "top_15_loc = cleaned_df.location.value_counts()[:15].index.tolist()\n",
    "top_15_loc"
   ]
  },
  {
   "cell_type": "code",
   "execution_count": 195,
   "metadata": {},
   "outputs": [],
   "source": [
    "def build_mapping(all_location,top_15_loc):\n",
    "    loc_mapping = {}\n",
    "    for loc in all_location:\n",
    "        for tloc in top_15_loc:\n",
    "            max_dist = 0\n",
    "            if loc == tloc:\n",
    "                continue\n",
    "            else:\n",
    "                sim = jellyfish.jaro_distance(loc,tloc)\n",
    "                if sim > 0.85 and sim > loc_mapping.get(\"loc\",0):\n",
    "                    loc_mapping[loc] = tloc\n",
    "    return loc_mapping"
   ]
  },
  {
   "cell_type": "code",
   "execution_count": 196,
   "metadata": {
    "scrolled": false
   },
   "outputs": [
    {
     "data": {
      "text/plain": [
       "{u'aaraattupuzha': u'arattupuzha',\n",
       " u'aarattupuhza': u'arattupuzha',\n",
       " u'aarattupuzha': u'arattupuzha',\n",
       " u'aaratupuzha': u'arattupuzha',\n",
       " u'aliva': u'aluva',\n",
       " u'aluva,': u'aluva',\n",
       " u'aratpuzha': u'arattupuzha',\n",
       " u'arattupuza': u'arattupuzha',\n",
       " u'arattupuzha bridge': u'arattupuzha',\n",
       " u'aratuppuzha': u'arattupuzha',\n",
       " u'aratupuzha': u'arattupuzha',\n",
       " u'ayiroor': u'ayroor',\n",
       " u'chalakka': u'chalakkudy',\n",
       " u'chalakkkudy': u'chalakkudy',\n",
       " u'chalakkudi': u'chalakkudy',\n",
       " u'chalakkudy': u'chalakudy',\n",
       " u'chalakkudy south': u'chalakkudy',\n",
       " u'chalakuddy': u'chalakkudy',\n",
       " u'chalakudi': u'chalakkudy',\n",
       " u'chalakudy': u'chalakkudy',\n",
       " u'chalakudy meloor': u'chalakudy',\n",
       " u'chalakudy,meloor': u'chalakudy',\n",
       " u'chegannur': u'chengannur',\n",
       " u'chenagnnur': u'chengannur',\n",
       " u'chendamangalam panchayath': u'chendamangalam',\n",
       " u'chendamangalam paravur': u'chendamangalam',\n",
       " u'chendamangalam, paravoor': u'chendamangalam',\n",
       " u'chendamangalam, paravur': u'chendamangalam',\n",
       " u'chengamanad': u'chendamangalam',\n",
       " u'chengannoor': u'chengannur',\n",
       " u'chengannor': u'chengannur',\n",
       " u'chengannur edakavu': u'chengannur',\n",
       " u'chengannur, othara': u'chengannur',\n",
       " u'chengannur- ala': u'chengannur',\n",
       " u'chengannuur': u'chengannur',\n",
       " u'chenganoor': u'chengannur',\n",
       " u'chenganur': u'chengannur',\n",
       " u'chenganuur': u'chengannur',\n",
       " u'chenghannoor': u'chengannur',\n",
       " u'chenghannur': u'chengannur',\n",
       " u'chennamangalam': u'chendamangalam',\n",
       " u'dims chalakkudy': u'chalakkudy',\n",
       " u'kaladi': u'kalady',\n",
       " u'kallady': u'kalady',\n",
       " u'kongorpally': u'kongorpilly',\n",
       " u'kongorppilly': u'kongorpilly',\n",
       " u'maroor': u'ayroor',\n",
       " u'mekalady': u'kalady',\n",
       " u'niranam west': u'niranam',\n",
       " u'nort paravoor': u'north paravur',\n",
       " u'north  paravoor': u'north paravur',\n",
       " u'north paravoor': u'north paravur',\n",
       " u'north paravoot': u'north paravur',\n",
       " u'padanada': u'pandanad',\n",
       " u'panadanad': u'pandanad',\n",
       " u'pandanaad': u'pandanad',\n",
       " u'pandanad west': u'pandanad',\n",
       " u'pandanadu': u'pandanad',\n",
       " u'pandand': u'pandanad',\n",
       " u'poovathur': u'poovathussery',\n",
       " u'poovathuserry': u'poovathussery',\n",
       " u'poovathusery': u'poovathussery',\n",
       " u'poovathusherry': u'poovathussery',\n",
       " u'poovathusseri, mala': u'poovathussery',\n",
       " u'poovathussery church': u'poovathussery',\n",
       " u'poovathussery palupuzha': u'poovathussery',\n",
       " u'poovathussery, aluva': u'poovathussery',\n",
       " u'poovathussry': u'poovathussery',\n",
       " u'puvathussery': u'poovathussery',\n",
       " u'thiruvala': u'thiruvalla',\n",
       " u'thiruvalla kuttoor': u'thiruvalla',\n",
       " u'thiruvamandoor': u'thiruvanvandoor',\n",
       " u'thiruvandoor': u'thiruvanvandoor',\n",
       " u'thiruvanmandoor': u'thiruvanvandoor',\n",
       " u'thiruvanmundoor': u'thiruvanvandoor',\n",
       " u'thiruvanvadoor': u'thiruvanvandoor',\n",
       " u'thiruvanvanddur': u'thiruvanvandoor',\n",
       " u'thiruvanvandoor , madavana': u'thiruvanvandoor',\n",
       " u'thiruvanvandoor ,chengannur': u'thiruvanvandoor',\n",
       " u'thiruvanvandoor chengannur,': u'thiruvanvandoor',\n",
       " u'thiruvanvandoor temple': u'thiruvanvandoor',\n",
       " u'thiruvanvandor': u'thiruvanvandoor',\n",
       " u'thiruvanvanfoor': u'thiruvanvandoor',\n",
       " u'thiruvanwandoor': u'thiruvanvandoor',\n",
       " u'thirvalla': u'thiruvalla',\n",
       " u'thrivanvandoor': u'thiruvanvandoor',\n",
       " u'tiruvalla': u'thiruvalla',\n",
       " u'tiruvallla': u'thiruvalla',\n",
       " u'west chalakkudy': u'chalakkudy',\n",
       " u'west chalakudy': u'chalakudy'}"
      ]
     },
     "execution_count": 196,
     "metadata": {},
     "output_type": "execute_result"
    }
   ],
   "source": [
    "loc_mapping = build_mapping(all_location,top_15_loc)\n",
    "loc_mapping"
   ]
  },
  {
   "cell_type": "markdown",
   "metadata": {},
   "source": [
    "- Mapping Looks good. We will map these locations also to the top 15 locations"
   ]
  },
  {
   "cell_type": "code",
   "execution_count": 197,
   "metadata": {},
   "outputs": [],
   "source": [
    "def map_location(location): return loc_mapping.get(location,location)"
   ]
  },
  {
   "cell_type": "code",
   "execution_count": 198,
   "metadata": {},
   "outputs": [],
   "source": [
    "cleaned_df[\"new_location\"] = cleaned_df.apply(lambda x : map_location(x[\"location\"]),axis =1)"
   ]
  },
  {
   "cell_type": "code",
   "execution_count": 199,
   "metadata": {
    "scrolled": false
   },
   "outputs": [
    {
     "data": {
      "text/plain": [
       "chengannur           151\n",
       "aluva                 97\n",
       "chalakkudy            95\n",
       "thiruvalla            70\n",
       "kalady                59\n",
       "poovathussery         53\n",
       "pandanad              53\n",
       "thiruvanvandoor       38\n",
       "north paravur         32\n",
       "chalakudy             28\n",
       "arattupuzha           27\n",
       "chendamangalam        26\n",
       "ayroor                23\n",
       "kongorpilly           19\n",
       "niranam               17\n",
       "kadukutty             15\n",
       "aranmula              14\n",
       "east kadungalloor     14\n",
       "edayaranmula          13\n",
       "parakkadavu           12\n",
       "Name: new_location, dtype: int64"
      ]
     },
     "execution_count": 199,
     "metadata": {},
     "output_type": "execute_result"
    }
   ],
   "source": [
    "cleaned_df.new_location.value_counts()[:20]"
   ]
  },
  {
   "cell_type": "markdown",
   "metadata": {},
   "source": [
    "- This is the Top 20 affected locations along with number of requests"
   ]
  },
  {
   "cell_type": "code",
   "execution_count": null,
   "metadata": {},
   "outputs": [],
   "source": []
  }
 ],
 "metadata": {
  "kernelspec": {
   "display_name": "Python [conda env:citius]",
   "language": "python",
   "name": "conda-env-citius-py"
  },
  "language_info": {
   "codemirror_mode": {
    "name": "ipython",
    "version": 2
   },
   "file_extension": ".py",
   "mimetype": "text/x-python",
   "name": "python",
   "nbconvert_exporter": "python",
   "pygments_lexer": "ipython2",
   "version": "2.7.14"
  }
 },
 "nbformat": 4,
 "nbformat_minor": 2
}
